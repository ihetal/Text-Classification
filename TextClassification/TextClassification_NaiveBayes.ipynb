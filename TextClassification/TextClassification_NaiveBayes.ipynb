{
 "cells": [
  {
   "cell_type": "code",
   "execution_count": 49,
   "metadata": {},
   "outputs": [],
   "source": [
    "import os\n",
    "import pandas as pd\n",
    "import numpy as np\n",
    "import nltk\n",
    "from sklearn.feature_extraction.text import CountVectorizer, TfidfVectorizer\n",
    "from sklearn import preprocessing \n",
    "from sklearn.model_selection import train_test_split\n",
    "from sklearn.naive_bayes import MultinomialNB\n",
    "from sklearn import metrics\n",
    "from imblearn.over_sampling import SMOTE\n"
   ]
  },
  {
   "cell_type": "code",
   "execution_count": 38,
   "metadata": {},
   "outputs": [],
   "source": [
    "df = pd.read_csv('C:/Users/Hetal/Documents/GitHub/Text-classification-and-summarization/Data collection/news_data.csv', index_col=0)\n",
    "\n",
    "with open('../dataset.csv', 'a+', encoding=\"utf-8-sig\", newline='') as f:\n",
    "    df.to_csv(f, header=False, index = False)\n"
   ]
  },
  {
   "cell_type": "code",
   "execution_count": 83,
   "metadata": {},
   "outputs": [
    {
     "name": "stdout",
     "output_type": "stream",
     "text": [
      "3    969\n",
      "0    796\n",
      "1    620\n",
      "4    586\n",
      "2    552\n",
      "5    312\n",
      "Name: category, dtype: int64\n"
     ]
    }
   ],
   "source": [
    "#Encoding the target labels\n",
    "df = pd.read_csv(\"../dataset.csv\")\n",
    "label_encoder = preprocessing.LabelEncoder() \n",
    "\n",
    "df['category']= label_encoder.fit_transform(df['category']) \n",
    "\n",
    "print(df['category'].value_counts())\n"
   ]
  },
  {
   "cell_type": "code",
   "execution_count": 84,
   "metadata": {},
   "outputs": [
    {
     "data": {
      "text/plain": [
       "3    969\n",
       "2    969\n",
       "5    969\n",
       "1    969\n",
       "4    969\n",
       "0    969\n",
       "Name: category, dtype: int64"
      ]
     },
     "execution_count": 84,
     "metadata": {},
     "output_type": "execute_result"
    }
   ],
   "source": [
    "#Upsampling\n",
    "\n",
    "df0 = df[df.category==0]\n",
    "df1 = df[df.category==1]\n",
    "df2 = df[df.category==2]\n",
    "df3 = df[df.category==3]\n",
    "df4 = df[df.category==4]\n",
    "df5 = df[df.category==5]\n",
    "\n",
    "\n",
    "df0 = resample(df0, \n",
    "                   replace=True,    # sample without replacement\n",
    "                   n_samples=969,     # to match majority class\n",
    "                   random_state=123) # reproducible results\n",
    "df1 = resample(df1, \n",
    "                   replace=True,    # sample without replacement\n",
    "                   n_samples=969,     # to match majority class\n",
    "                   random_state=123) # reproducible results\n",
    "df2 = resample(df2, \n",
    "                   replace=True,    # sample without replacement\n",
    "                   n_samples=969,     # to match majority class\n",
    "                   random_state=123) # reproducible results\n",
    "df4 = resample(df4, \n",
    "                   replace=True,    # sample without replacement\n",
    "                   n_samples=969,     # to match majority class\n",
    "                   random_state=123) # reproducible results\n",
    "df5 = resample(df5, \n",
    "                   replace=True,    # sample without replacement\n",
    "                   n_samples=969,     # to match majority class\n",
    "                   random_state=123) # reproducible results\n",
    "\n",
    "df_upsampled = pd.concat([df0,df1,df2,df3,df4,df5])\n",
    "\n",
    " \n",
    "#Display new class counts\n",
    "df=df_upsampled\n",
    "df_upsampled.category.value_counts()"
   ]
  },
  {
   "cell_type": "code",
   "execution_count": 59,
   "metadata": {},
   "outputs": [
    {
     "data": {
      "text/html": [
       "<div>\n",
       "<style scoped>\n",
       "    .dataframe tbody tr th:only-of-type {\n",
       "        vertical-align: middle;\n",
       "    }\n",
       "\n",
       "    .dataframe tbody tr th {\n",
       "        vertical-align: top;\n",
       "    }\n",
       "\n",
       "    .dataframe thead th {\n",
       "        text-align: right;\n",
       "    }\n",
       "</style>\n",
       "<table border=\"1\" class=\"dataframe\">\n",
       "  <thead>\n",
       "    <tr style=\"text-align: right;\">\n",
       "      <th></th>\n",
       "      <th>category</th>\n",
       "      <th>news</th>\n",
       "      <th>text_lemmatized</th>\n",
       "      <th>filtered_text</th>\n",
       "    </tr>\n",
       "  </thead>\n",
       "  <tbody>\n",
       "    <tr>\n",
       "      <td>2271</td>\n",
       "      <td>0</td>\n",
       "      <td>Actress Rachel Bloom and her husband, writer-p...</td>\n",
       "      <td>Actress Rachel Bloom and her husband , writer-...</td>\n",
       "      <td>Actress Rachel Bloom husband , writer-producer...</td>\n",
       "    </tr>\n",
       "    <tr>\n",
       "      <td>365</td>\n",
       "      <td>0</td>\n",
       "      <td>WMC says Xstrata bid is too low\\n\\nAustralian ...</td>\n",
       "      <td>WMC say Xstrata bid is too low Australian mini...</td>\n",
       "      <td>WMC say Xstrata bid low Australian mining firm...</td>\n",
       "    </tr>\n",
       "    <tr>\n",
       "      <td>382</td>\n",
       "      <td>0</td>\n",
       "      <td>Fed warns of more US rate rises\\n\\nThe US look...</td>\n",
       "      <td>Fed warns of more US rate rise The US look set...</td>\n",
       "      <td>Fed warns US rate rise The US look set continu...</td>\n",
       "    </tr>\n",
       "    <tr>\n",
       "      <td>322</td>\n",
       "      <td>0</td>\n",
       "      <td>No seasonal lift for house market\\n\\nA swathe ...</td>\n",
       "      <td>No seasonal lift for house market A swathe of ...</td>\n",
       "      <td>No seasonal lift house market A swathe figure ...</td>\n",
       "    </tr>\n",
       "    <tr>\n",
       "      <td>98</td>\n",
       "      <td>0</td>\n",
       "      <td>GM, Ford cut output as sales fall\\n\\nUS car fi...</td>\n",
       "      <td>GM , Ford cut output a sale fall US car firm G...</td>\n",
       "      <td>GM , Ford cut output sale fall US car firm Gen...</td>\n",
       "    </tr>\n",
       "  </tbody>\n",
       "</table>\n",
       "</div>"
      ],
      "text/plain": [
       "      category                                               news  \\\n",
       "2271         0  Actress Rachel Bloom and her husband, writer-p...   \n",
       "365          0  WMC says Xstrata bid is too low\\n\\nAustralian ...   \n",
       "382          0  Fed warns of more US rate rises\\n\\nThe US look...   \n",
       "322          0  No seasonal lift for house market\\n\\nA swathe ...   \n",
       "98           0  GM, Ford cut output as sales fall\\n\\nUS car fi...   \n",
       "\n",
       "                                        text_lemmatized  \\\n",
       "2271  Actress Rachel Bloom and her husband , writer-...   \n",
       "365   WMC say Xstrata bid is too low Australian mini...   \n",
       "382   Fed warns of more US rate rise The US look set...   \n",
       "322   No seasonal lift for house market A swathe of ...   \n",
       "98    GM , Ford cut output a sale fall US car firm G...   \n",
       "\n",
       "                                          filtered_text  \n",
       "2271  Actress Rachel Bloom husband , writer-producer...  \n",
       "365   WMC say Xstrata bid low Australian mining firm...  \n",
       "382   Fed warns US rate rise The US look set continu...  \n",
       "322   No seasonal lift house market A swathe figure ...  \n",
       "98    GM , Ford cut output sale fall US car firm Gen...  "
      ]
     },
     "execution_count": 59,
     "metadata": {},
     "output_type": "execute_result"
    }
   ],
   "source": [
    "#lemmatization\n",
    "\n",
    "lemmatizer = nltk.stem.WordNetLemmatizer()\n",
    "\n",
    "def lemmatize_text(text):\n",
    "    lemmatized_tokens = [lemmatizer.lemmatize(w) for w in nltk.word_tokenize(text)]\n",
    "    lemmatized_text = ' '.join(lemmatized_tokens)\n",
    "    return lemmatized_text\n",
    "\n",
    "df[\"text_lemmatized\"] = df[\"news\"].apply(lemmatize_text)\n",
    "\n",
    "df.head()"
   ]
  },
  {
   "cell_type": "code",
   "execution_count": 60,
   "metadata": {
    "scrolled": true
   },
   "outputs": [
    {
     "data": {
      "text/html": [
       "<div>\n",
       "<style scoped>\n",
       "    .dataframe tbody tr th:only-of-type {\n",
       "        vertical-align: middle;\n",
       "    }\n",
       "\n",
       "    .dataframe tbody tr th {\n",
       "        vertical-align: top;\n",
       "    }\n",
       "\n",
       "    .dataframe thead th {\n",
       "        text-align: right;\n",
       "    }\n",
       "</style>\n",
       "<table border=\"1\" class=\"dataframe\">\n",
       "  <thead>\n",
       "    <tr style=\"text-align: right;\">\n",
       "      <th></th>\n",
       "      <th>category</th>\n",
       "      <th>news</th>\n",
       "      <th>text_lemmatized</th>\n",
       "      <th>filtered_text</th>\n",
       "    </tr>\n",
       "  </thead>\n",
       "  <tbody>\n",
       "    <tr>\n",
       "      <td>2271</td>\n",
       "      <td>0</td>\n",
       "      <td>Actress Rachel Bloom and her husband, writer-p...</td>\n",
       "      <td>Actress Rachel Bloom and her husband , writer-...</td>\n",
       "      <td>Actress Rachel Bloom husband , writer-producer...</td>\n",
       "    </tr>\n",
       "    <tr>\n",
       "      <td>365</td>\n",
       "      <td>0</td>\n",
       "      <td>WMC says Xstrata bid is too low\\n\\nAustralian ...</td>\n",
       "      <td>WMC say Xstrata bid is too low Australian mini...</td>\n",
       "      <td>WMC say Xstrata bid low Australian mining firm...</td>\n",
       "    </tr>\n",
       "    <tr>\n",
       "      <td>382</td>\n",
       "      <td>0</td>\n",
       "      <td>Fed warns of more US rate rises\\n\\nThe US look...</td>\n",
       "      <td>Fed warns of more US rate rise The US look set...</td>\n",
       "      <td>Fed warns US rate rise The US look set continu...</td>\n",
       "    </tr>\n",
       "    <tr>\n",
       "      <td>322</td>\n",
       "      <td>0</td>\n",
       "      <td>No seasonal lift for house market\\n\\nA swathe ...</td>\n",
       "      <td>No seasonal lift for house market A swathe of ...</td>\n",
       "      <td>No seasonal lift house market A swathe figure ...</td>\n",
       "    </tr>\n",
       "    <tr>\n",
       "      <td>98</td>\n",
       "      <td>0</td>\n",
       "      <td>GM, Ford cut output as sales fall\\n\\nUS car fi...</td>\n",
       "      <td>GM , Ford cut output a sale fall US car firm G...</td>\n",
       "      <td>GM , Ford cut output sale fall US car firm Gen...</td>\n",
       "    </tr>\n",
       "  </tbody>\n",
       "</table>\n",
       "</div>"
      ],
      "text/plain": [
       "      category                                               news  \\\n",
       "2271         0  Actress Rachel Bloom and her husband, writer-p...   \n",
       "365          0  WMC says Xstrata bid is too low\\n\\nAustralian ...   \n",
       "382          0  Fed warns of more US rate rises\\n\\nThe US look...   \n",
       "322          0  No seasonal lift for house market\\n\\nA swathe ...   \n",
       "98           0  GM, Ford cut output as sales fall\\n\\nUS car fi...   \n",
       "\n",
       "                                        text_lemmatized  \\\n",
       "2271  Actress Rachel Bloom and her husband , writer-...   \n",
       "365   WMC say Xstrata bid is too low Australian mini...   \n",
       "382   Fed warns of more US rate rise The US look set...   \n",
       "322   No seasonal lift for house market A swathe of ...   \n",
       "98    GM , Ford cut output a sale fall US car firm G...   \n",
       "\n",
       "                                          filtered_text  \n",
       "2271  Actress Rachel Bloom husband , writer-producer...  \n",
       "365   WMC say Xstrata bid low Australian mining firm...  \n",
       "382   Fed warns US rate rise The US look set continu...  \n",
       "322   No seasonal lift house market A swathe figure ...  \n",
       "98    GM , Ford cut output sale fall US car firm Gen...  "
      ]
     },
     "execution_count": 60,
     "metadata": {},
     "output_type": "execute_result"
    }
   ],
   "source": [
    "#Removing stop words\n",
    "stopword_list = nltk.corpus.stopwords.words('english')\n",
    "\n",
    "def remove_stopwords(text):\n",
    "    filtered_words = [word for word in nltk.word_tokenize(text) if word not in stopword_list]\n",
    "    filtered_text = ' '.join(filtered_words)    \n",
    "    return filtered_text\n",
    "\n",
    "df[\"filtered_text\"] = df[\"text_lemmatized\"].apply(remove_stopwords)\n",
    "\n",
    "df.head()"
   ]
  },
  {
   "cell_type": "code",
   "execution_count": 72,
   "metadata": {},
   "outputs": [],
   "source": [
    "training_set, test_set, training_labels, test_labels = train_test_split(df[\"filtered_text\"], df[\"category\"], test_size=0.33, random_state=24)\n"
   ]
  },
  {
   "cell_type": "code",
   "execution_count": 79,
   "metadata": {},
   "outputs": [],
   "source": [
    "#Bag of words\n",
    "vectorizer = CountVectorizer(min_df=2)\n",
    "bow_train_features = vectorizer.fit_transform(training_set)\n",
    "\n",
    "bow_test_features = vectorizer.transform(test_set)"
   ]
  },
  {
   "cell_type": "code",
   "execution_count": 80,
   "metadata": {},
   "outputs": [
    {
     "name": "stdout",
     "output_type": "stream",
     "text": [
      "Bag of words accuracy  0.938509640437728\n"
     ]
    }
   ],
   "source": [
    "mnb = MultinomialNB()\n",
    "mnb.fit(bow_train_features,training_labels)\n",
    "\n",
    "predictions = mnb.predict(bow_test_features)\n",
    "\n",
    "score = mnb.score(bow_test_features, test_labels)\n",
    "print(\"Bag of words accuracy \",score)"
   ]
  },
  {
   "cell_type": "code",
   "execution_count": 81,
   "metadata": {},
   "outputs": [],
   "source": [
    "#Tfidf \n",
    "tfidvectorizer = TfidfVectorizer(min_df=6, \n",
    "                                 norm='l2',\n",
    "                                 smooth_idf=True,\n",
    "                                 use_idf=True)\n",
    "tfid_train_features = tfidvectorizer.fit_transform(training_set)\n",
    "\n",
    "tfid_test_features = tfidvectorizer.transform(test_set)"
   ]
  },
  {
   "cell_type": "code",
   "execution_count": 82,
   "metadata": {},
   "outputs": [
    {
     "name": "stdout",
     "output_type": "stream",
     "text": [
      "Tfidf accuracy  0.9338196977592496\n"
     ]
    }
   ],
   "source": [
    "mnb = MultinomialNB()\n",
    "\n",
    "mnb.fit(tfid_train_features,training_labels)\n",
    "\n",
    "predictions = mnb.predict(tfid_test_features)\n",
    "\n",
    "score = mnb.score(tfid_test_features, test_labels)\n",
    "print(\"Tfidf accuracy \",score)"
   ]
  },
  {
   "cell_type": "code",
   "execution_count": null,
   "metadata": {},
   "outputs": [],
   "source": []
  }
 ],
 "metadata": {
  "kernelspec": {
   "display_name": "Python 3",
   "language": "python",
   "name": "python3"
  },
  "language_info": {
   "codemirror_mode": {
    "name": "ipython",
    "version": 3
   },
   "file_extension": ".py",
   "mimetype": "text/x-python",
   "name": "python",
   "nbconvert_exporter": "python",
   "pygments_lexer": "ipython3",
   "version": "3.7.3"
  }
 },
 "nbformat": 4,
 "nbformat_minor": 2
}
