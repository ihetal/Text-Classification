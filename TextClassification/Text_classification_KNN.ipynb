{
 "cells": [
  {
   "cell_type": "code",
   "execution_count": 1,
   "metadata": {},
   "outputs": [],
   "source": [
    "%load_ext autotime"
   ]
  },
  {
   "cell_type": "code",
   "execution_count": 2,
   "metadata": {},
   "outputs": [
    {
     "name": "stdout",
     "output_type": "stream",
     "text": [
      "time: 5.6 s\n"
     ]
    }
   ],
   "source": [
    "import pandas as pd\n",
    "import numpy as np\n",
    "import seaborn as sns\n",
    "import matplotlib.pyplot as plt\n",
    "import re\n",
    "import unicodedata\n",
    "import nltk\n",
    "import codecs\n",
    "from sklearn.metrics import accuracy_score, classification_report, confusion_matrix"
   ]
  },
  {
   "cell_type": "code",
   "execution_count": 3,
   "metadata": {},
   "outputs": [
    {
     "name": "stdout",
     "output_type": "stream",
     "text": [
      "time: 57.7 ms\n"
     ]
    }
   ],
   "source": [
    "from nltk.tokenize import word_tokenize\n",
    "from nltk import pos_tag\n",
    "from nltk.corpus import stopwords\n",
    "from nltk.stem import WordNetLemmatizer\n",
    "from sklearn.preprocessing import LabelEncoder\n",
    "from collections import defaultdict\n",
    "from sklearn.feature_extraction.text import CountVectorizer, TfidfVectorizer\n",
    "from sklearn.model_selection import train_test_split\n",
    "from sklearn.neighbors import KNeighborsClassifier\n",
    "from sklearn.metrics import f1_score, precision_score, recall_score, accuracy_score\n",
    "from sklearn.neighbors import DistanceMetric\n",
    "from nltk.stem import WordNetLemmatizer\n",
    "from nltk.stem import SnowballStemmer\n",
    "from nltk.tokenize import word_tokenize\n",
    "from nltk import pos_tag\n",
    "from nltk.corpus import wordnet\n",
    "from sklearn import metrics, neighbors\n",
    "from sklearn.model_selection import train_test_split, cross_val_score, cross_val_predict"
   ]
  },
  {
   "cell_type": "code",
   "execution_count": 4,
   "metadata": {},
   "outputs": [
    {
     "name": "stdout",
     "output_type": "stream",
     "text": [
      "time: 377 ms\n"
     ]
    }
   ],
   "source": [
    "df = pd.read_pickle('./datasets/news_data.pickle')"
   ]
  },
  {
   "cell_type": "code",
   "execution_count": 5,
   "metadata": {},
   "outputs": [
    {
     "data": {
      "text/html": [
       "<div>\n",
       "<style scoped>\n",
       "    .dataframe tbody tr th:only-of-type {\n",
       "        vertical-align: middle;\n",
       "    }\n",
       "\n",
       "    .dataframe tbody tr th {\n",
       "        vertical-align: top;\n",
       "    }\n",
       "\n",
       "    .dataframe thead th {\n",
       "        text-align: right;\n",
       "    }\n",
       "</style>\n",
       "<table border=\"1\" class=\"dataframe\">\n",
       "  <thead>\n",
       "    <tr style=\"text-align: right;\">\n",
       "      <th></th>\n",
       "      <th>URL</th>\n",
       "      <th>CATEGORY</th>\n",
       "      <th>content and summary</th>\n",
       "    </tr>\n",
       "  </thead>\n",
       "  <tbody>\n",
       "    <tr>\n",
       "      <th>91513</th>\n",
       "      <td>http://www.investing.com/news/stock-market-new...</td>\n",
       "      <td>business</td>\n",
       "      <td>[Japan Pharma Takeda To Fight $6B US Jury Dama...</td>\n",
       "    </tr>\n",
       "    <tr>\n",
       "      <th>60987</th>\n",
       "      <td>http://www.iol.co.za/business/international/us...</td>\n",
       "      <td>business</td>\n",
       "      <td>[US consumers step up spending\\n\\n\\n\\n\\n\\n\\n\\n...</td>\n",
       "    </tr>\n",
       "    <tr>\n",
       "      <th>58673</th>\n",
       "      <td>http://www.democratandchronicle.com/article/20...</td>\n",
       "      <td>entertainment</td>\n",
       "      <td>[]</td>\n",
       "    </tr>\n",
       "    <tr>\n",
       "      <th>72463</th>\n",
       "      <td>http://www.bucksfreepress.co.uk/leisure/showbi...</td>\n",
       "      <td>entertainment</td>\n",
       "      <td>[Lady Gaga has celebrated her 28th birthday wi...</td>\n",
       "    </tr>\n",
       "    <tr>\n",
       "      <th>97317</th>\n",
       "      <td>http://androidcommunity.com/t-mobile-covering-...</td>\n",
       "      <td>technology</td>\n",
       "      <td>[As we mentioned earlier in the day, the Galax...</td>\n",
       "    </tr>\n",
       "  </tbody>\n",
       "</table>\n",
       "</div>"
      ],
      "text/plain": [
       "                                                     URL       CATEGORY  \\\n",
       "91513  http://www.investing.com/news/stock-market-new...       business   \n",
       "60987  http://www.iol.co.za/business/international/us...       business   \n",
       "58673  http://www.democratandchronicle.com/article/20...  entertainment   \n",
       "72463  http://www.bucksfreepress.co.uk/leisure/showbi...  entertainment   \n",
       "97317  http://androidcommunity.com/t-mobile-covering-...     technology   \n",
       "\n",
       "                                     content and summary  \n",
       "91513  [Japan Pharma Takeda To Fight $6B US Jury Dama...  \n",
       "60987  [US consumers step up spending\\n\\n\\n\\n\\n\\n\\n\\n...  \n",
       "58673                                                 []  \n",
       "72463  [Lady Gaga has celebrated her 28th birthday wi...  \n",
       "97317  [As we mentioned earlier in the day, the Galax...  "
      ]
     },
     "execution_count": 5,
     "metadata": {},
     "output_type": "execute_result"
    },
    {
     "name": "stdout",
     "output_type": "stream",
     "text": [
      "time: 15.1 ms\n"
     ]
    }
   ],
   "source": [
    "df.sample(5)"
   ]
  },
  {
   "cell_type": "code",
   "execution_count": 6,
   "metadata": {},
   "outputs": [
    {
     "data": {
      "text/plain": [
       "(108043, 3)"
      ]
     },
     "execution_count": 6,
     "metadata": {},
     "output_type": "execute_result"
    },
    {
     "name": "stdout",
     "output_type": "stream",
     "text": [
      "time: 48.9 ms\n"
     ]
    }
   ],
   "source": [
    "df = df.dropna()\n",
    "df.shape"
   ]
  },
  {
   "cell_type": "code",
   "execution_count": 7,
   "metadata": {},
   "outputs": [
    {
     "name": "stdout",
     "output_type": "stream",
     "text": [
      "time: 19.9 ms\n"
     ]
    }
   ],
   "source": [
    "df = df.loc[:,['CATEGORY','content and summary']]"
   ]
  },
  {
   "cell_type": "code",
   "execution_count": 8,
   "metadata": {},
   "outputs": [
    {
     "name": "stdout",
     "output_type": "stream",
     "text": [
      "time: 85.3 ms\n"
     ]
    }
   ],
   "source": [
    "df = df[df['content and summary'].map(lambda d: len(d)) > 0]"
   ]
  },
  {
   "cell_type": "code",
   "execution_count": 9,
   "metadata": {},
   "outputs": [
    {
     "data": {
      "text/plain": [
       "(37033, 2)"
      ]
     },
     "execution_count": 9,
     "metadata": {},
     "output_type": "execute_result"
    },
    {
     "name": "stdout",
     "output_type": "stream",
     "text": [
      "time: 11 ms\n"
     ]
    }
   ],
   "source": [
    "df.shape"
   ]
  },
  {
   "cell_type": "code",
   "execution_count": 10,
   "metadata": {},
   "outputs": [
    {
     "name": "stdout",
     "output_type": "stream",
     "text": [
      "time: 1.98 ms\n"
     ]
    }
   ],
   "source": [
    "def get_content(row):\n",
    "    row = row[0]\n",
    "    return row\n",
    "def get_summary(row):\n",
    "    row = row[1]\n",
    "    return row"
   ]
  },
  {
   "cell_type": "code",
   "execution_count": 11,
   "metadata": {},
   "outputs": [
    {
     "name": "stdout",
     "output_type": "stream",
     "text": [
      "time: 46.9 ms\n"
     ]
    }
   ],
   "source": [
    "\n",
    "df['content'] = df['content and summary'].apply(get_content)\n",
    "df['summary'] = df['content and summary'].apply(get_summary)"
   ]
  },
  {
   "cell_type": "code",
   "execution_count": 12,
   "metadata": {
    "scrolled": true
   },
   "outputs": [
    {
     "data": {
      "text/html": [
       "<div>\n",
       "<style scoped>\n",
       "    .dataframe tbody tr th:only-of-type {\n",
       "        vertical-align: middle;\n",
       "    }\n",
       "\n",
       "    .dataframe tbody tr th {\n",
       "        vertical-align: top;\n",
       "    }\n",
       "\n",
       "    .dataframe thead th {\n",
       "        text-align: right;\n",
       "    }\n",
       "</style>\n",
       "<table border=\"1\" class=\"dataframe\">\n",
       "  <thead>\n",
       "    <tr style=\"text-align: right;\">\n",
       "      <th></th>\n",
       "      <th>CATEGORY</th>\n",
       "      <th>content and summary</th>\n",
       "      <th>content</th>\n",
       "      <th>summary</th>\n",
       "    </tr>\n",
       "  </thead>\n",
       "  <tbody>\n",
       "    <tr>\n",
       "      <th>50890</th>\n",
       "      <td>business</td>\n",
       "      <td>[The Federal Reserve approved Ally Financial I...</td>\n",
       "      <td>The Federal Reserve approved Ally Financial In...</td>\n",
       "      <td>The Federal Reserve approved Ally Financial In...</td>\n",
       "    </tr>\n",
       "    <tr>\n",
       "      <th>50898</th>\n",
       "      <td>business</td>\n",
       "      <td>[— Major shareholders of Duke Energy Corp. hav...</td>\n",
       "      <td>— Major shareholders of Duke Energy Corp. have...</td>\n",
       "      <td>— Major shareholders of Duke Energy Corp. have...</td>\n",
       "    </tr>\n",
       "    <tr>\n",
       "      <th>50900</th>\n",
       "      <td>business</td>\n",
       "      <td>[Photos taken earlier this month show that Nor...</td>\n",
       "      <td>Photos taken earlier this month show that Nort...</td>\n",
       "      <td>Photos taken earlier this month show that Nort...</td>\n",
       "    </tr>\n",
       "    <tr>\n",
       "      <th>50903</th>\n",
       "      <td>business</td>\n",
       "      <td>[Thanks to dogged reporting by the Associated ...</td>\n",
       "      <td>Thanks to dogged reporting by the Associated P...</td>\n",
       "      <td>Thanks to dogged reporting by the Associated P...</td>\n",
       "    </tr>\n",
       "    <tr>\n",
       "      <th>50906</th>\n",
       "      <td>business</td>\n",
       "      <td>[The energy giant says it is committed to clea...</td>\n",
       "      <td>The energy giant says it is committed to clean...</td>\n",
       "      <td>The energy giant says it is committed to clean...</td>\n",
       "    </tr>\n",
       "  </tbody>\n",
       "</table>\n",
       "</div>"
      ],
      "text/plain": [
       "       CATEGORY                                content and summary  \\\n",
       "50890  business  [The Federal Reserve approved Ally Financial I...   \n",
       "50898  business  [— Major shareholders of Duke Energy Corp. hav...   \n",
       "50900  business  [Photos taken earlier this month show that Nor...   \n",
       "50903  business  [Thanks to dogged reporting by the Associated ...   \n",
       "50906  business  [The energy giant says it is committed to clea...   \n",
       "\n",
       "                                                 content  \\\n",
       "50890  The Federal Reserve approved Ally Financial In...   \n",
       "50898  — Major shareholders of Duke Energy Corp. have...   \n",
       "50900  Photos taken earlier this month show that Nort...   \n",
       "50903  Thanks to dogged reporting by the Associated P...   \n",
       "50906  The energy giant says it is committed to clean...   \n",
       "\n",
       "                                                 summary  \n",
       "50890  The Federal Reserve approved Ally Financial In...  \n",
       "50898  — Major shareholders of Duke Energy Corp. have...  \n",
       "50900  Photos taken earlier this month show that Nort...  \n",
       "50903  Thanks to dogged reporting by the Associated P...  \n",
       "50906  The energy giant says it is committed to clean...  "
      ]
     },
     "execution_count": 12,
     "metadata": {},
     "output_type": "execute_result"
    },
    {
     "name": "stdout",
     "output_type": "stream",
     "text": [
      "time: 16.9 ms\n"
     ]
    }
   ],
   "source": [
    "df.head()"
   ]
  },
  {
   "cell_type": "code",
   "execution_count": 13,
   "metadata": {},
   "outputs": [
    {
     "name": "stdout",
     "output_type": "stream",
     "text": [
      "time: 57.8 ms\n"
     ]
    }
   ],
   "source": [
    "df.drop(['content and summary','summary'],axis=1, inplace=True)\n"
   ]
  },
  {
   "cell_type": "code",
   "execution_count": 14,
   "metadata": {},
   "outputs": [
    {
     "data": {
      "text/html": [
       "<div>\n",
       "<style scoped>\n",
       "    .dataframe tbody tr th:only-of-type {\n",
       "        vertical-align: middle;\n",
       "    }\n",
       "\n",
       "    .dataframe tbody tr th {\n",
       "        vertical-align: top;\n",
       "    }\n",
       "\n",
       "    .dataframe thead th {\n",
       "        text-align: right;\n",
       "    }\n",
       "</style>\n",
       "<table border=\"1\" class=\"dataframe\">\n",
       "  <thead>\n",
       "    <tr style=\"text-align: right;\">\n",
       "      <th></th>\n",
       "      <th>CATEGORY</th>\n",
       "      <th>content</th>\n",
       "    </tr>\n",
       "  </thead>\n",
       "  <tbody>\n",
       "    <tr>\n",
       "      <th>50890</th>\n",
       "      <td>business</td>\n",
       "      <td>The Federal Reserve approved Ally Financial In...</td>\n",
       "    </tr>\n",
       "    <tr>\n",
       "      <th>50898</th>\n",
       "      <td>business</td>\n",
       "      <td>— Major shareholders of Duke Energy Corp. have...</td>\n",
       "    </tr>\n",
       "    <tr>\n",
       "      <th>50900</th>\n",
       "      <td>business</td>\n",
       "      <td>Photos taken earlier this month show that Nort...</td>\n",
       "    </tr>\n",
       "    <tr>\n",
       "      <th>50903</th>\n",
       "      <td>business</td>\n",
       "      <td>Thanks to dogged reporting by the Associated P...</td>\n",
       "    </tr>\n",
       "    <tr>\n",
       "      <th>50906</th>\n",
       "      <td>business</td>\n",
       "      <td>The energy giant says it is committed to clean...</td>\n",
       "    </tr>\n",
       "  </tbody>\n",
       "</table>\n",
       "</div>"
      ],
      "text/plain": [
       "       CATEGORY                                            content\n",
       "50890  business  The Federal Reserve approved Ally Financial In...\n",
       "50898  business  — Major shareholders of Duke Energy Corp. have...\n",
       "50900  business  Photos taken earlier this month show that Nort...\n",
       "50903  business  Thanks to dogged reporting by the Associated P...\n",
       "50906  business  The energy giant says it is committed to clean..."
      ]
     },
     "execution_count": 14,
     "metadata": {},
     "output_type": "execute_result"
    },
    {
     "name": "stdout",
     "output_type": "stream",
     "text": [
      "time: 5.97 ms\n"
     ]
    }
   ],
   "source": [
    "df.head()"
   ]
  },
  {
   "cell_type": "code",
   "execution_count": 15,
   "metadata": {},
   "outputs": [
    {
     "name": "stdout",
     "output_type": "stream",
     "text": [
      "time: 5.98 ms\n"
     ]
    }
   ],
   "source": [
    "df = df.rename(columns= {'CATEGORY':'category'})"
   ]
  },
  {
   "cell_type": "code",
   "execution_count": 16,
   "metadata": {},
   "outputs": [
    {
     "data": {
      "text/html": [
       "<div>\n",
       "<style scoped>\n",
       "    .dataframe tbody tr th:only-of-type {\n",
       "        vertical-align: middle;\n",
       "    }\n",
       "\n",
       "    .dataframe tbody tr th {\n",
       "        vertical-align: top;\n",
       "    }\n",
       "\n",
       "    .dataframe thead th {\n",
       "        text-align: right;\n",
       "    }\n",
       "</style>\n",
       "<table border=\"1\" class=\"dataframe\">\n",
       "  <thead>\n",
       "    <tr style=\"text-align: right;\">\n",
       "      <th></th>\n",
       "      <th>category</th>\n",
       "      <th>content</th>\n",
       "    </tr>\n",
       "  </thead>\n",
       "  <tbody>\n",
       "    <tr>\n",
       "      <th>50890</th>\n",
       "      <td>business</td>\n",
       "      <td>The Federal Reserve approved Ally Financial In...</td>\n",
       "    </tr>\n",
       "    <tr>\n",
       "      <th>50898</th>\n",
       "      <td>business</td>\n",
       "      <td>— Major shareholders of Duke Energy Corp. have...</td>\n",
       "    </tr>\n",
       "    <tr>\n",
       "      <th>50900</th>\n",
       "      <td>business</td>\n",
       "      <td>Photos taken earlier this month show that Nort...</td>\n",
       "    </tr>\n",
       "    <tr>\n",
       "      <th>50903</th>\n",
       "      <td>business</td>\n",
       "      <td>Thanks to dogged reporting by the Associated P...</td>\n",
       "    </tr>\n",
       "    <tr>\n",
       "      <th>50906</th>\n",
       "      <td>business</td>\n",
       "      <td>The energy giant says it is committed to clean...</td>\n",
       "    </tr>\n",
       "  </tbody>\n",
       "</table>\n",
       "</div>"
      ],
      "text/plain": [
       "       category                                            content\n",
       "50890  business  The Federal Reserve approved Ally Financial In...\n",
       "50898  business  — Major shareholders of Duke Energy Corp. have...\n",
       "50900  business  Photos taken earlier this month show that Nort...\n",
       "50903  business  Thanks to dogged reporting by the Associated P...\n",
       "50906  business  The energy giant says it is committed to clean..."
      ]
     },
     "execution_count": 16,
     "metadata": {},
     "output_type": "execute_result"
    },
    {
     "name": "stdout",
     "output_type": "stream",
     "text": [
      "time: 14 ms\n"
     ]
    }
   ],
   "source": [
    "df.head()"
   ]
  },
  {
   "cell_type": "markdown",
   "metadata": {},
   "source": [
    "#### Before cleaning the text"
   ]
  },
  {
   "cell_type": "code",
   "execution_count": 17,
   "metadata": {},
   "outputs": [
    {
     "name": "stdout",
     "output_type": "stream",
     "text": [
      "Content\n",
      "----------------------\n",
      "The Federal Reserve approved Ally Financial Inc.’s capital plan in the bank regulator’s annual review of the industry’s financial health, clearing another potential hurdle to the auto lender’s plans to exit government ownership.\n",
      "\n",
      "Ally’s plan was approved after the Federal Reserve found that the bank could keep lending in a severe economic downturn, according to a report Wednesday.\n",
      "time: 2.99 ms\n"
     ]
    }
   ],
   "source": [
    "for i in range(1):\n",
    "    print(\"Content\")\n",
    "    print(\"----------------------\")\n",
    "    print(df.content.iloc[i])\n",
    "#     print(\"Summary\")\n",
    "#     print(\"----------------------\")\n",
    "#     print(df.summary.iloc[i])"
   ]
  },
  {
   "cell_type": "code",
   "execution_count": 18,
   "metadata": {},
   "outputs": [
    {
     "name": "stdout",
     "output_type": "stream",
     "text": [
      "time: 7.98 ms\n"
     ]
    }
   ],
   "source": [
    "def clean_text(text):\n",
    "    '''Remove unwanted characters, stopwords, and format the text to create fewer nulls word embeddings'''\n",
    "    \n",
    "    # Convert words to lower case\n",
    "    text = text.lower()\n",
    "    \n",
    "    # Add contractions\n",
    "    \n",
    "    # Format words and remove unwanted characters\n",
    "    text = re.sub(r'https?:\\/\\/.*[\\r\\n]*', '', text, flags=re.MULTILINE)\n",
    "    text = re.sub(r'\\<a href', ' ', text)\n",
    "    text = re.sub(r'&amp;', '', text) \n",
    "    text = re.sub(r'[_\"\\-;%()|+&=*%.,!?:#$@\\[\\]/]', ' ', text)\n",
    "    text = re.sub(r'<br />', ' ', text)\n",
    "    text = re.sub(r'\\'', ' ', text)\n",
    "    \n",
    "    \n",
    "    text =  ''.join(\n",
    "        c for c in unicodedata.normalize('NFD', text)\n",
    "        if unicodedata.category(c) != 'Mn'\n",
    "    )\n",
    "    \n",
    "    text = text.split()\n",
    "    stops = set(stopwords.words(\"english\"))\n",
    "    text = [w for w in text if not w in stops]\n",
    "    text = \" \".join(text)\n",
    "    \n",
    "    \n",
    "    \n",
    "    wordnet_lemmatizer = WordNetLemmatizer()\n",
    "\n",
    "    def get_tag(tag):\n",
    "        if tag.startswith('J'):\n",
    "            return wordnet.ADJ\n",
    "        elif tag.startswith('V'):\n",
    "            return wordnet.VERB\n",
    "        elif tag.startswith('N'):\n",
    "            return wordnet.NOUN\n",
    "        elif tag.startswith('R'):\n",
    "            return wordnet.ADV\n",
    "        else:\n",
    "            return ''\n",
    "\n",
    "    text_result = []\n",
    "    tokens = word_tokenize(text)  # Generate list of tokens\n",
    "    tagged = pos_tag(tokens)\n",
    "    for t in tagged:\n",
    "        try:\n",
    "            text_result.append(wordnet_lemmatizer.lemmatize(t[0], get_tag(t[1][:2])))\n",
    "        except:\n",
    "            text_result.append(wordnet_lemmatizer.lemmatize(t[0]))\n",
    "    paragraph = \" \".join(str(x) for x in text_result)\n",
    "    return paragraph\n",
    "\n",
    "    "
   ]
  },
  {
   "cell_type": "code",
   "execution_count": 19,
   "metadata": {},
   "outputs": [
    {
     "name": "stdout",
     "output_type": "stream",
     "text": [
      "time: 9min 33s\n"
     ]
    }
   ],
   "source": [
    "df['content'] = df['content'].apply(clean_text)\n",
    "df.to_pickle('cleaned_data.pickle')"
   ]
  },
  {
   "cell_type": "code",
   "execution_count": 4,
   "metadata": {},
   "outputs": [
    {
     "name": "stdout",
     "output_type": "stream",
     "text": [
      "time: 238 ms\n"
     ]
    }
   ],
   "source": [
    "df = pd.read_pickle('cleaned_data.pickle')"
   ]
  },
  {
   "cell_type": "markdown",
   "metadata": {},
   "source": [
    "#### After cleaning the text"
   ]
  },
  {
   "cell_type": "code",
   "execution_count": 5,
   "metadata": {},
   "outputs": [
    {
     "name": "stdout",
     "output_type": "stream",
     "text": [
      "Content \n",
      "----------------------\n",
      "federal reserve approve ally financial inc ’ s capital plan bank regulator ’ s annual review industry ’ s financial health clearing another potential hurdle auto lender ’ s plan exit government ownership ally ’ s plan approve federal reserve find bank could keep lend severe economic downturn accord report wednesday\n",
      "time: 2 ms\n"
     ]
    }
   ],
   "source": [
    "for i in range(1):\n",
    "    print(\"Content \")\n",
    "    print(\"----------------------\")\n",
    "    print(df.content.iloc[i])"
   ]
  },
  {
   "cell_type": "code",
   "execution_count": 6,
   "metadata": {},
   "outputs": [
    {
     "data": {
      "text/html": [
       "<div>\n",
       "<style scoped>\n",
       "    .dataframe tbody tr th:only-of-type {\n",
       "        vertical-align: middle;\n",
       "    }\n",
       "\n",
       "    .dataframe tbody tr th {\n",
       "        vertical-align: top;\n",
       "    }\n",
       "\n",
       "    .dataframe thead th {\n",
       "        text-align: right;\n",
       "    }\n",
       "</style>\n",
       "<table border=\"1\" class=\"dataframe\">\n",
       "  <thead>\n",
       "    <tr style=\"text-align: right;\">\n",
       "      <th></th>\n",
       "      <th>category</th>\n",
       "      <th>content</th>\n",
       "    </tr>\n",
       "  </thead>\n",
       "  <tbody>\n",
       "    <tr>\n",
       "      <th>50890</th>\n",
       "      <td>0</td>\n",
       "      <td>federal reserve approve ally financial inc ’ s...</td>\n",
       "    </tr>\n",
       "    <tr>\n",
       "      <th>50898</th>\n",
       "      <td>0</td>\n",
       "      <td>— major shareholder duke energy corp call comp...</td>\n",
       "    </tr>\n",
       "    <tr>\n",
       "      <th>50900</th>\n",
       "      <td>0</td>\n",
       "      <td>photo take earlier month show north carolina r...</td>\n",
       "    </tr>\n",
       "    <tr>\n",
       "      <th>50903</th>\n",
       "      <td>0</td>\n",
       "      <td>thanks dog report associated press know active...</td>\n",
       "    </tr>\n",
       "    <tr>\n",
       "      <th>50906</th>\n",
       "      <td>0</td>\n",
       "      <td>energy giant say committed clean dan river spi...</td>\n",
       "    </tr>\n",
       "  </tbody>\n",
       "</table>\n",
       "</div>"
      ],
      "text/plain": [
       "       category                                            content\n",
       "50890         0  federal reserve approve ally financial inc ’ s...\n",
       "50898         0  — major shareholder duke energy corp call comp...\n",
       "50900         0  photo take earlier month show north carolina r...\n",
       "50903         0  thanks dog report associated press know active...\n",
       "50906         0  energy giant say committed clean dan river spi..."
      ]
     },
     "execution_count": 6,
     "metadata": {},
     "output_type": "execute_result"
    },
    {
     "name": "stdout",
     "output_type": "stream",
     "text": [
      "time: 14 ms\n"
     ]
    }
   ],
   "source": [
    "df.head()"
   ]
  },
  {
   "cell_type": "markdown",
   "metadata": {},
   "source": [
    "#### Encoding the categories"
   ]
  },
  {
   "cell_type": "code",
   "execution_count": 7,
   "metadata": {},
   "outputs": [
    {
     "name": "stdout",
     "output_type": "stream",
     "text": [
      "time: 3.99 ms\n"
     ]
    }
   ],
   "source": [
    "label_encoder = LabelEncoder() \n",
    "\n",
    "df['category']= label_encoder.fit_transform(df['category'])"
   ]
  },
  {
   "cell_type": "code",
   "execution_count": 8,
   "metadata": {},
   "outputs": [
    {
     "data": {
      "text/html": [
       "<div>\n",
       "<style scoped>\n",
       "    .dataframe tbody tr th:only-of-type {\n",
       "        vertical-align: middle;\n",
       "    }\n",
       "\n",
       "    .dataframe tbody tr th {\n",
       "        vertical-align: top;\n",
       "    }\n",
       "\n",
       "    .dataframe thead th {\n",
       "        text-align: right;\n",
       "    }\n",
       "</style>\n",
       "<table border=\"1\" class=\"dataframe\">\n",
       "  <thead>\n",
       "    <tr style=\"text-align: right;\">\n",
       "      <th></th>\n",
       "      <th>category</th>\n",
       "      <th>content</th>\n",
       "    </tr>\n",
       "  </thead>\n",
       "  <tbody>\n",
       "    <tr>\n",
       "      <th>169985</th>\n",
       "      <td>2</td>\n",
       "      <td>saudi arabia health ministry say sunday eight ...</td>\n",
       "    </tr>\n",
       "    <tr>\n",
       "      <th>92867</th>\n",
       "      <td>3</td>\n",
       "      <td>cnn name logo associate element ® © 2019 cable...</td>\n",
       "    </tr>\n",
       "    <tr>\n",
       "      <th>66411</th>\n",
       "      <td>0</td>\n",
       "      <td>consumer confidence rise first time since earl...</td>\n",
       "    </tr>\n",
       "    <tr>\n",
       "      <th>195303</th>\n",
       "      <td>2</td>\n",
       "      <td>thunder bay – mental health awareness week mha...</td>\n",
       "    </tr>\n",
       "    <tr>\n",
       "      <th>70260</th>\n",
       "      <td>0</td>\n",
       "      <td>guardian london ever widen financial lexicon l...</td>\n",
       "    </tr>\n",
       "  </tbody>\n",
       "</table>\n",
       "</div>"
      ],
      "text/plain": [
       "        category                                            content\n",
       "169985         2  saudi arabia health ministry say sunday eight ...\n",
       "92867          3  cnn name logo associate element ® © 2019 cable...\n",
       "66411          0  consumer confidence rise first time since earl...\n",
       "195303         2  thunder bay – mental health awareness week mha...\n",
       "70260          0  guardian london ever widen financial lexicon l..."
      ]
     },
     "execution_count": 8,
     "metadata": {},
     "output_type": "execute_result"
    },
    {
     "name": "stdout",
     "output_type": "stream",
     "text": [
      "time: 8.98 ms\n"
     ]
    }
   ],
   "source": [
    "df.sample(5)"
   ]
  },
  {
   "cell_type": "code",
   "execution_count": 9,
   "metadata": {},
   "outputs": [
    {
     "name": "stdout",
     "output_type": "stream",
     "text": [
      "time: 5.98 ms\n"
     ]
    }
   ],
   "source": [
    "def knn(p,n,vector_type, metric=None):\n",
    "        \n",
    "    X_train, X_test, y_train, y_test = train_test_split(df[\"content\"], df[\"category\"],\n",
    "                                                        test_size=0.2, random_state=5)\n",
    "    \n",
    "    knn = neighbors.KNeighborsClassifier(n_neighbors=n, weights='distance', algorithm='auto', metric=metric, p=p, n_jobs=1)\n",
    "    \n",
    "    if vector_type == 'BoW':\n",
    "        vectorizer = CountVectorizer(analyzer='word', input='content')\n",
    "        train_vec = vectorizer.fit_transform(X_train)\n",
    "        test_vec = vectorizer.transform(X_test)\n",
    "    \n",
    "    elif vector_type == 'tfidf':\n",
    "        vectorizer =  TfidfVectorizer(analyzer='word', input='content')\n",
    "        train_vec = vectorizer.fit_transform(X_train)\n",
    "        test_vec = vectorizer.transform(X_test)\n",
    "\n",
    "    \n",
    "\n",
    "    knn.fit(train_vec, y_train)\n",
    "    predicted = knn.predict(test_vec)\n",
    "    acc = metrics.accuracy_score(y_test, predicted)\n",
    "    print('Accuracy: KNN with {}, neighbors: {}, distance metric: {}  = {}'.format(vector_type, n,metric, str(acc * 100) + '%'))\n"
   ]
  },
  {
   "cell_type": "code",
   "execution_count": 11,
   "metadata": {},
   "outputs": [
    {
     "name": "stdout",
     "output_type": "stream",
     "text": [
      "Accuracy: KNN with BoW, neighbors: 2, distance metric: cosine  = 94.00567031186715%\n",
      "Accuracy: KNN with BoW, neighbors: 3, distance metric: cosine  = 94.14067773727555%\n",
      "Accuracy: KNN with BoW, neighbors: 4, distance metric: cosine  = 94.43769407317403%\n",
      "Accuracy: KNN with BoW, neighbors: 5, distance metric: cosine  = 94.11367625219387%\n",
      "Accuracy: KNN with BoW, neighbors: 6, distance metric: cosine  = 94.30268664776563%\n",
      "Accuracy: KNN with BoW, neighbors: 7, distance metric: cosine  = 94.12717699473471%\n",
      "time: 5min 39s\n"
     ]
    }
   ],
   "source": [
    "for n_neighbor in range(2,8,1):\n",
    "    knn(2,n_neighbor,'BoW','cosine')\n",
    "    "
   ]
  },
  {
   "cell_type": "code",
   "execution_count": 10,
   "metadata": {},
   "outputs": [
    {
     "name": "stdout",
     "output_type": "stream",
     "text": [
      "Accuracy: KNN with BoW, neighbors: 2, distance metric: euclidean  = 88.74038072093965%\n",
      "Accuracy: KNN with BoW, neighbors: 3, distance metric: euclidean  = 87.2958012690698%\n",
      "Accuracy: KNN with BoW, neighbors: 4, distance metric: euclidean  = 87.82233022816254%\n",
      "Accuracy: KNN with BoW, neighbors: 5, distance metric: euclidean  = 87.91683542594842%\n",
      "Accuracy: KNN with BoW, neighbors: 6, distance metric: euclidean  = 87.82233022816254%\n",
      "Accuracy: KNN with BoW, neighbors: 7, distance metric: euclidean  = 87.67382206021331%\n",
      "time: 5min 31s\n"
     ]
    }
   ],
   "source": [
    "for n_neighbor in range(2,8,1):\n",
    "    knn(2,n_neighbor,'BoW','euclidean')"
   ]
  },
  {
   "cell_type": "code",
   "execution_count": 10,
   "metadata": {},
   "outputs": [
    {
     "name": "stdout",
     "output_type": "stream",
     "text": [
      "Accuracy: KNN with tfidf, neighbors: 2, distance metric: cosine  = 93.87066288645876%\n",
      "Accuracy: KNN with tfidf, neighbors: 3, distance metric: cosine  = 94.35668961792899%\n",
      "Accuracy: KNN with tfidf, neighbors: 4, distance metric: cosine  = 94.58620224112326%\n",
      "Accuracy: KNN with tfidf, neighbors: 5, distance metric: cosine  = 94.5997029836641%\n",
      "Accuracy: KNN with tfidf, neighbors: 6, distance metric: cosine  = 94.50519778587822%\n",
      "Accuracy: KNN with tfidf, neighbors: 7, distance metric: cosine  = 94.23518293506142%\n",
      "time: 5min 34s\n"
     ]
    }
   ],
   "source": [
    "for n_neighbor in range(2,8,1):\n",
    "    knn(2,n_neighbor,'tfidf','cosine')"
   ]
  },
  {
   "cell_type": "code",
   "execution_count": 11,
   "metadata": {},
   "outputs": [
    {
     "name": "stdout",
     "output_type": "stream",
     "text": [
      "Accuracy: KNN with tfidf, neighbors: 2, distance metric: euclidean  = 93.87066288645876%\n",
      "Accuracy: KNN with tfidf, neighbors: 3, distance metric: euclidean  = 94.35668961792899%\n",
      "Accuracy: KNN with tfidf, neighbors: 4, distance metric: euclidean  = 94.51869852841907%\n",
      "Accuracy: KNN with tfidf, neighbors: 5, distance metric: euclidean  = 94.51869852841907%\n",
      "Accuracy: KNN with tfidf, neighbors: 6, distance metric: euclidean  = 94.45119481571487%\n",
      "Accuracy: KNN with tfidf, neighbors: 7, distance metric: euclidean  = 94.22168219252059%\n",
      "time: 5min 14s\n"
     ]
    }
   ],
   "source": [
    "for n_neighbor in range(2,8,1):\n",
    "    knn(2,n_neighbor,'tfidf','euclidean')"
   ]
  },
  {
   "cell_type": "markdown",
   "metadata": {},
   "source": [
    "**Observation:** The best accuracy 94.599% is achieved with TF-IDF, num of neighbors : 5 and cosine similarity as the distance metric"
   ]
  }
 ],
 "metadata": {
  "kernelspec": {
   "display_name": "Python 3",
   "language": "python",
   "name": "python3"
  },
  "language_info": {
   "codemirror_mode": {
    "name": "ipython",
    "version": 3
   },
   "file_extension": ".py",
   "mimetype": "text/x-python",
   "name": "python",
   "nbconvert_exporter": "python",
   "pygments_lexer": "ipython3",
   "version": "3.7.0"
  }
 },
 "nbformat": 4,
 "nbformat_minor": 2
}
